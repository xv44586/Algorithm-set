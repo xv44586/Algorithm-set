{
 "cells": [
  {
   "cell_type": "code",
   "execution_count": 1,
   "metadata": {
    "collapsed": true
   },
   "outputs": [],
   "source": [
    "import random"
   ]
  },
  {
   "cell_type": "code",
   "execution_count": 11,
   "metadata": {},
   "outputs": [],
   "source": [
    "class BucketSort(object):\n",
    "    def __init__(self, arr):\n",
    "        self.arr = arr\n",
    "    \n",
    "    @property\n",
    "    def _max(self):\n",
    "        max_ = 0\n",
    "        for i in self.arr:\n",
    "            if i > max_:\n",
    "                max_ = i\n",
    "        return max_\n",
    "    \n",
    "    def sort(self):\n",
    "        s = [0] * (self._max +1)\n",
    "        for a in self.arr:\n",
    "            s[a] += 1\n",
    "        sortedL = []\n",
    "        for index, v in enumerate(s):\n",
    "            if v > 0:\n",
    "                sortedL += [index] * v\n",
    "        \n",
    "        return sortedL\n",
    "            "
   ]
  },
  {
   "cell_type": "code",
   "execution_count": 23,
   "metadata": {},
   "outputs": [],
   "source": [
    "def test():\n",
    "    t = [random.randint(0,1009) for i_ in range(10)]\n",
    "    b = BucketSort(t)\n",
    "    print(t)\n",
    "    print(b.sort())"
   ]
  },
  {
   "cell_type": "code",
   "execution_count": 24,
   "metadata": {},
   "outputs": [
    {
     "name": "stdout",
     "output_type": "stream",
     "text": [
      "[830, 69, 120, 566, 747, 836, 209, 599, 538, 830]\n",
      "[69, 120, 209, 538, 566, 599, 747, 830, 830, 836]\n"
     ]
    }
   ],
   "source": [
    "test()"
   ]
  },
  {
   "cell_type": "code",
   "execution_count": 105,
   "metadata": {},
   "outputs": [],
   "source": [
    "class RadixSort(object):\n",
    "    def __init__(self, L):\n",
    "        self.L = L\n",
    "    \n",
    "    @staticmethod\n",
    "    def get_index_num(index, num):\n",
    "        _,l=divmod(num, 10**(index +1))\n",
    "        \n",
    "        index_v, _ = divmod(l, 10**(index))\n",
    "        return index_v\n",
    "    \n",
    "    @staticmethod\n",
    "    def sort_by_index(index, L):\n",
    "        d = {}\n",
    "        for l in L:\n",
    "            index_v = RadixSort.get_index_num(index, l)\n",
    "            d.setdefault(index_v, []).append(l)\n",
    "        \n",
    "        sortedL = []\n",
    "        for i in sorted(d.keys()):\n",
    "            sortedL.extend(d[i])\n",
    "        return sortedL\n",
    "    \n",
    "    @property\n",
    "    def _max_index(self):\n",
    "        max_ = 0\n",
    "        for l in self.L:\n",
    "            m = 0\n",
    "            index = 0\n",
    "            while 1:\n",
    "                last, _ = divmod(l, 10**m)\n",
    "                if last > 0:\n",
    "                    m += 1\n",
    "                    continue\n",
    "                break\n",
    "            \n",
    "            if m > max_:\n",
    "                max_ = m\n",
    "        \n",
    "        return max_\n",
    "    \n",
    "    def sort(self):\n",
    "        max_ = self._max_index\n",
    "        L = self.L\n",
    "        for index in range(max_):\n",
    "            L = self.sort_by_index(index, L)\n",
    "        \n",
    "        return L"
   ]
  },
  {
   "cell_type": "code",
   "execution_count": 106,
   "metadata": {},
   "outputs": [],
   "source": [
    "r = RadixSort([123,234,345,567,456,9876,9,13,65,0,0])"
   ]
  },
  {
   "cell_type": "code",
   "execution_count": 107,
   "metadata": {},
   "outputs": [
    {
     "data": {
      "text/plain": [
       "[0, 0, 9, 13, 65, 123, 234, 345, 456, 567, 9876]"
      ]
     },
     "execution_count": 107,
     "metadata": {},
     "output_type": "execute_result"
    }
   ],
   "source": [
    "r.sort()"
   ]
  }
 ],
 "metadata": {
  "kernelspec": {
   "display_name": "Python 3",
   "language": "python",
   "name": "python3"
  },
  "language_info": {
   "codemirror_mode": {
    "name": "ipython",
    "version": 3
   },
   "file_extension": ".py",
   "mimetype": "text/x-python",
   "name": "python",
   "nbconvert_exporter": "python",
   "pygments_lexer": "ipython3",
   "version": "3.6.0"
  }
 },
 "nbformat": 4,
 "nbformat_minor": 2
}
