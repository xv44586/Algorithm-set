{
 "cells": [
  {
   "cell_type": "code",
   "execution_count": 20,
   "metadata": {},
   "outputs": [],
   "source": [
    "class BTree(object):\n",
    "    def __init__(self, value):\n",
    "        self.value = value\n",
    "        self.left = None\n",
    "        self.right = None\n",
    "        \n",
    "    @staticmethod\n",
    "    def preorder_rec(tree_root):\n",
    "        '''\n",
    "        递归版本，效率低\n",
    "        '''\n",
    "        if not tree_root:\n",
    "            return\n",
    "        else:\n",
    "            print(tree_root.value)\n",
    "            BTree.preorder_rec(tree_root.left)\n",
    "            BTree.preorder_rec(tree_root.right)\n",
    "    \n",
    "    @staticmethod\n",
    "    def midorder_rec(tree_root):\n",
    "        if not tree_root:\n",
    "            return\n",
    "        else:\n",
    "            BTree.midorder_rec(tree_root.left)\n",
    "            print(tree_root.value)\n",
    "            BTree.midorder_rec(tree_root.right)\n",
    "    \n",
    "    @staticmethod\n",
    "    def postorder_rec(tree_root):\n",
    "        if not tree_root:\n",
    "            return\n",
    "        else:\n",
    "            BTree.postorder_rec(tree_root.left)\n",
    "            BTree.postorder_rec(tree_root.right)\n",
    "            print(tree_root.value)\n",
    "    \n",
    "    @staticmethod\n",
    "    def preorder(tree_root):\n",
    "        '''\n",
    "        root -> left -> right\n",
    "        '''\n",
    "        stack = [] # 用列表模拟栈\n",
    "        while tree_root or stack:\n",
    "            if tree_root:\n",
    "                print(tree_root.value)\n",
    "                stack.append(tree_root)\n",
    "                tree_root = tree_root.left\n",
    "            else:\n",
    "                node = stack.pop()\n",
    "                tree_root = node.right\n",
    "                \n",
    "    @staticmethod            \n",
    "    def midorder(tree_root):\n",
    "        '''\n",
    "        left -> root -> right\n",
    "        '''\n",
    "        stack = []\n",
    "        while tree_root or stack:\n",
    "            if tree_root:\n",
    "                stack.append(tree_root)\n",
    "                tree_root = tree_root.left\n",
    "            else:\n",
    "                node = stack.pop()\n",
    "                print(node.value)\n",
    "                tree_root = node.right\n",
    "    \n",
    "    @staticmethod\n",
    "    def postorder(tree_root):\n",
    "        '''\n",
    "        left -> right -> root\n",
    "        '''\n",
    "        stack_node = []\n",
    "        stack_time = []\n",
    "        while tree_root or stack_node:\n",
    "            if tree_root:\n",
    "                stack_node.append(tree_root)\n",
    "                stack_time.append(0)\n",
    "                tree_root = tree_root.left\n",
    "            else:\n",
    "                t = stack_time.pop()\n",
    "                # first time visit node\n",
    "                if t == 0:\n",
    "                    node = stack_node.pop()\n",
    "                    stack_time.append(1)\n",
    "                    tree_root = node.right\n",
    "                    stack_node.append(node)\n",
    "                else:\n",
    "                    node = stack_node.pop()\n",
    "                    print(node.value)\n",
    "                    tree_root = None\n",
    "    \n",
    "    @staticmethod\n",
    "    def level_order(tree_root):\n",
    "        '''\n",
    "        层次遍历\n",
    "        '''\n",
    "        from collections import deque\n",
    "        deq = deque()\n",
    "        deq.append(tree_root)\n",
    "        while deq:\n",
    "            node = deq.popleft()\n",
    "            print(node.value)\n",
    "            if node.left:\n",
    "                deq.append(node.left)\n",
    "            if node.right:\n",
    "                deq.append(node.right)\n",
    "    \n",
    "    @staticmethod\n",
    "    def create_tree_by_preorder(L):\n",
    "        '''\n",
    "        前序遍历结果重构二叉树，其中 left < root < right\n",
    "        '''\n",
    "        if not L:\n",
    "            return\n",
    "        \n",
    "        root = BTree(L[0])\n",
    "        # 当前节点非叶子节点\n",
    "        if len(L) > 1:\n",
    "            i = 1\n",
    "            while L[i] < L[0]:\n",
    "                i += 1\n",
    "\n",
    "            if i > 0:\n",
    "                root.left = BTree.create_tree_by_preorder(L[1: i])\n",
    "            if i < len(L):\n",
    "                root.right = BTree.create_tree_by_preorder(L[i:])\n",
    "        \n",
    "        return root\n",
    "    \n",
    "    @staticmethod\n",
    "    def create_tree_by_postorder(L):\n",
    "        '''\n",
    "         后序遍历结果重构二叉树，其中left < root < right\n",
    "        '''\n",
    "        if not L:\n",
    "            return\n",
    "        \n",
    "        root = BTree(L[-1])\n",
    "        \n",
    "        if len(L) > 1:\n",
    "            i = 1\n",
    "            while L[i] < L[-1]:\n",
    "                i += 1\n",
    "            \n",
    "            root.left = BTree.create_tree_by_postorder(L[:i])\n",
    "            \n",
    "            if i < len(L) - 1:\n",
    "                root.right = BTree.create_tree_by_postorder(L[i:])\n",
    "        \n",
    "        return root\n",
    "        \n",
    "    @staticmethod\n",
    "    def count_node(tree_root):\n",
    "        if not tree_root:\n",
    "            return 0\n",
    "        \n",
    "        return 1 + BTree.count_node(tree_root.left) + BTree.count_node(tree_root.right)\n",
    "    \n",
    "    @staticmethod\n",
    "    def create_tree_by_level_order(L):\n",
    "        '''\n",
    "        层次遍历结果重构二叉树，其中 left < root < right\n",
    "        思路：用队列保存已构建的节点，当前列表中的值与队列top的值对比，判断是左节点还是右节点，当右节点绑定后，该节点重构完成，将此节点出队\n",
    "        '''\n",
    "        from collections import deque\n",
    "        \n",
    "        if not L:\n",
    "            return\n",
    "        \n",
    "        root = BTree(L[0])\n",
    "        deq = deque()\n",
    "        deq.append(root)\n",
    "        \n",
    "        if len(L) > 1:\n",
    "            for i in range(1, len(L)):\n",
    "                node = deq.popleft()\n",
    "                node_new = BTree(L[i])\n",
    "                if L[i] < node.value:\n",
    "                    node.left\n",
    "                    \n",
    "            \n",
    "    @staticmethod\n",
    "    def is_btree_equal(tree_root1, tree_root2):\n",
    "        if not tree_root1 and not tree_root2:\n",
    "            return True\n",
    "        \n",
    "        if tree_root1.value != tree_root2.value:\n",
    "            return False\n",
    "        \n",
    "        return BTree.is_btree_equal(tree_root1.left, tree_root2.left) and BTree.is_btree_equal(tree_root1.right, tree_root2.right)\n",
    "                    \n",
    "        \n",
    "    @staticmethod\n",
    "    def get_level(tree_root):\n",
    "        if not tree_root:\n",
    "            return 0\n",
    "        return 1 + max(BTree.get_level(tree_root.left), BTree.get_level(tree_root.right))"
   ]
  },
  {
   "cell_type": "code",
   "execution_count": 2,
   "metadata": {},
   "outputs": [],
   "source": [
    "root = BTree(0)\n",
    "node1 = BTree(1)\n",
    "node2 = BTree(2)\n",
    "root.left = node1\n",
    "root.right = node2\n",
    "node3 = BTree(3)\n",
    "node4 = BTree(4)\n",
    "node1.left = node3\n",
    "node1.right = node4\n",
    "node3.right = BTree(5)"
   ]
  },
  {
   "cell_type": "code",
   "execution_count": 3,
   "metadata": {},
   "outputs": [
    {
     "name": "stdout",
     "output_type": "stream",
     "text": [
      "0\n",
      "1\n",
      "3\n",
      "5\n",
      "4\n",
      "2\n",
      "------\n",
      "0\n",
      "1\n",
      "3\n",
      "5\n",
      "4\n",
      "2\n"
     ]
    }
   ],
   "source": [
    "BTree.preorder(root)\n",
    "print('------')\n",
    "BTree.preorder_rec(root)"
   ]
  },
  {
   "cell_type": "code",
   "execution_count": 4,
   "metadata": {},
   "outputs": [
    {
     "name": "stdout",
     "output_type": "stream",
     "text": [
      "3\n",
      "5\n",
      "1\n",
      "4\n",
      "0\n",
      "2\n",
      "-----\n",
      "3\n",
      "5\n",
      "1\n",
      "4\n",
      "0\n",
      "2\n"
     ]
    }
   ],
   "source": [
    "BTree.midorder(root)\n",
    "print('-----')\n",
    "BTree.midorder_rec(root)"
   ]
  },
  {
   "cell_type": "code",
   "execution_count": 5,
   "metadata": {},
   "outputs": [
    {
     "name": "stdout",
     "output_type": "stream",
     "text": [
      "5\n",
      "3\n",
      "4\n",
      "1\n",
      "2\n",
      "0\n",
      "-----\n",
      "5\n",
      "3\n",
      "4\n",
      "1\n",
      "2\n",
      "0\n"
     ]
    }
   ],
   "source": [
    "BTree.postorder(root)\n",
    "print('-----')\n",
    "BTree.postorder_rec(root)"
   ]
  },
  {
   "cell_type": "code",
   "execution_count": 6,
   "metadata": {},
   "outputs": [
    {
     "name": "stdout",
     "output_type": "stream",
     "text": [
      "0\n",
      "1\n",
      "2\n",
      "3\n",
      "4\n",
      "5\n"
     ]
    }
   ],
   "source": [
    "BTree.level_order(root)"
   ]
  },
  {
   "cell_type": "code",
   "execution_count": 8,
   "metadata": {},
   "outputs": [
    {
     "name": "stdout",
     "output_type": "stream",
     "text": [
      "3\n",
      "4\n",
      "6\n",
      "10\n"
     ]
    }
   ],
   "source": [
    "r = BTree.create_tree_by_preorder([3,4, 6,10])\n",
    "BTree.preorder(r)"
   ]
  },
  {
   "cell_type": "code",
   "execution_count": 9,
   "metadata": {},
   "outputs": [
    {
     "name": "stdout",
     "output_type": "stream",
     "text": [
      "1\n",
      "2\n",
      "3\n",
      "4\n",
      "5\n",
      "6\n"
     ]
    }
   ],
   "source": [
    "rp = BTree.create_tree_by_postorder([1,2,3,4,5,6]) \n",
    "\n",
    "BTree.postorder(rp)"
   ]
  },
  {
   "cell_type": "code",
   "execution_count": 10,
   "metadata": {},
   "outputs": [
    {
     "data": {
      "text/plain": [
       "6"
      ]
     },
     "execution_count": 10,
     "metadata": {},
     "output_type": "execute_result"
    }
   ],
   "source": [
    "BTree.count_node(rp)"
   ]
  },
  {
   "cell_type": "code",
   "execution_count": 17,
   "metadata": {},
   "outputs": [
    {
     "data": {
      "text/plain": [
       "(True, True, False)"
      ]
     },
     "execution_count": 17,
     "metadata": {},
     "output_type": "execute_result"
    }
   ],
   "source": [
    "BTree.is_btree_equal(None, None),BTree.is_btree_equal(root, root),BTree.is_btree_equal(root, root.left)"
   ]
  },
  {
   "cell_type": "code",
   "execution_count": 19,
   "metadata": {},
   "outputs": [
    {
     "data": {
      "text/plain": [
       "4"
      ]
     },
     "execution_count": 19,
     "metadata": {},
     "output_type": "execute_result"
    }
   ],
   "source": [
    "BTree.get_level(root)"
   ]
  },
  {
   "cell_type": "code",
   "execution_count": null,
   "metadata": {},
   "outputs": [],
   "source": []
  }
 ],
 "metadata": {
  "kernelspec": {
   "display_name": "Python 3",
   "language": "python",
   "name": "python3"
  },
  "language_info": {
   "codemirror_mode": {
    "name": "ipython",
    "version": 3
   },
   "file_extension": ".py",
   "mimetype": "text/x-python",
   "name": "python",
   "nbconvert_exporter": "python",
   "pygments_lexer": "ipython3",
   "version": "3.7.1"
  }
 },
 "nbformat": 4,
 "nbformat_minor": 2
}
