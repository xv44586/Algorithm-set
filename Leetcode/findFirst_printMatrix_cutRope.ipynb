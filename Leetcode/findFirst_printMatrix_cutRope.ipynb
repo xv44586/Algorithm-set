{
 "cells": [
  {
   "cell_type": "code",
   "execution_count": 10,
   "metadata": {},
   "outputs": [],
   "source": [
    "def findDuplicated(L):\n",
    "    if len(L) < 2:\n",
    "        return False\n",
    "    i = 0\n",
    "    while i < len(L):\n",
    "        m = L[i]\n",
    "        if m == i:\n",
    "            i += 1\n",
    "            continue\n",
    "        else:\n",
    "            if L[m] == m:\n",
    "                return m\n",
    "            else:\n",
    "                L[i], L[m] = L[m], m\n",
    "        print(L)\n",
    "    return False\n",
    "        "
   ]
  },
  {
   "cell_type": "code",
   "execution_count": 12,
   "metadata": {},
   "outputs": [
    {
     "name": "stdout",
     "output_type": "stream",
     "text": [
      "[1, 3, 2, 2, 5, 3]\n",
      "[3, 1, 2, 2, 5, 3]\n",
      "[2, 1, 2, 3, 5, 3]\n"
     ]
    },
    {
     "data": {
      "text/plain": [
       "2"
      ]
     },
     "execution_count": 12,
     "metadata": {},
     "output_type": "execute_result"
    }
   ],
   "source": [
    "findDuplicated([2,3,1,2,5,3])"
   ]
  },
  {
   "cell_type": "code",
   "execution_count": 37,
   "metadata": {},
   "outputs": [],
   "source": [
    "def findDuplicatedWithNotChange(L):\n",
    "    if len(L) < 2:\n",
    "        return False\n",
    "    \n",
    "    start = 1\n",
    "    end = len(L) -1 # n -1 \n",
    "    while start <= end:\n",
    "        mid = start + int((end - start) / 2)\n",
    "        count = 0\n",
    "        for l in L:\n",
    "            if l <= mid:\n",
    "                count += 1\n",
    "            \n",
    "        if count == mid:\n",
    "            if count > 1:\n",
    "                return start\n",
    "            else:\n",
    "                return False\n",
    "        if count > mid:\n",
    "            end = mid\n",
    "        else:\n",
    "            start = mid + 1\n",
    "        \n",
    "    return False"
   ]
  },
  {
   "cell_type": "code",
   "execution_count": 38,
   "metadata": {},
   "outputs": [
    {
     "data": {
      "text/plain": [
       "False"
      ]
     },
     "execution_count": 38,
     "metadata": {},
     "output_type": "execute_result"
    }
   ],
   "source": [
    "findDuplicatedWithNotChange([1,2])"
   ]
  },
  {
   "cell_type": "code",
   "execution_count": 53,
   "metadata": {},
   "outputs": [],
   "source": [
    "def find(L, k):\n",
    "    '''\n",
    "    L : list[list[int]]\n",
    "    k: int\n",
    "    '''\n",
    "    row = 0\n",
    "    col = len(L[0]) - 1\n",
    "    rows = len(L)\n",
    "    found = False\n",
    "    while L and row < rows and col >= 0:\n",
    "        print(row, col)\n",
    "        if L[row][col] == k:\n",
    "            return True\n",
    "        elif L[row][col] > k:\n",
    "            col -= 1\n",
    "        else:\n",
    "            row += 1\n",
    "    \n",
    "    return found\n",
    "        "
   ]
  },
  {
   "cell_type": "code",
   "execution_count": 54,
   "metadata": {},
   "outputs": [],
   "source": [
    "L = [[1,2,8,9],\n",
    "    [2,4,9,12],\n",
    "    [4,7,10,13],\n",
    "    [6,8,11,15]]"
   ]
  },
  {
   "cell_type": "code",
   "execution_count": 55,
   "metadata": {},
   "outputs": [
    {
     "name": "stdout",
     "output_type": "stream",
     "text": [
      "0 3\n",
      "0 2\n",
      "0 1\n",
      "1 1\n",
      "2 1\n"
     ]
    },
    {
     "data": {
      "text/plain": [
       "True"
      ]
     },
     "execution_count": 55,
     "metadata": {},
     "output_type": "execute_result"
    }
   ],
   "source": [
    "find(L,7)"
   ]
  },
  {
   "cell_type": "code",
   "execution_count": 46,
   "metadata": {},
   "outputs": [
    {
     "data": {
      "text/plain": [
       "2"
      ]
     },
     "execution_count": 46,
     "metadata": {},
     "output_type": "execute_result"
    }
   ],
   "source": [
    "L[0][1]"
   ]
  },
  {
   "cell_type": "code",
   "execution_count": 56,
   "metadata": {},
   "outputs": [
    {
     "data": {
      "text/plain": [
       "48"
      ]
     },
     "execution_count": 56,
     "metadata": {},
     "output_type": "execute_result"
    }
   ],
   "source": [
    "ord('0')"
   ]
  },
  {
   "cell_type": "code",
   "execution_count": 60,
   "metadata": {},
   "outputs": [],
   "source": [
    "def merge_sort(L):\n",
    "    if len(L) <= 1:\n",
    "        return L\n",
    "    mid = len(L) // 2\n",
    "    left = merge_sort(L[:mid])\n",
    "    right = merge_sort(L[mid:])\n",
    "    return merge(left, right)\n",
    "\n",
    "def merge(l1, l2):\n",
    "    i,g = 0,0\n",
    "    c = []\n",
    "    while i<len(l1) and g<len(l2):\n",
    "        if l1[i] < l2[g]:\n",
    "            c.append(l1[i])\n",
    "            i += 1\n",
    "        else:\n",
    "            c.append(l2[g])\n",
    "            g += 1\n",
    "    if i < len(l1):\n",
    "        c.extend(l1[i:])\n",
    "    if g < len(l2):\n",
    "        c.extend(l2[g:])\n",
    "    return c"
   ]
  },
  {
   "cell_type": "code",
   "execution_count": 61,
   "metadata": {},
   "outputs": [
    {
     "data": {
      "text/plain": [
       "[1, 2, 3, 4, 7]"
      ]
     },
     "execution_count": 61,
     "metadata": {},
     "output_type": "execute_result"
    }
   ],
   "source": [
    "merge_sort([1,4,2,3, 7])"
   ]
  },
  {
   "cell_type": "code",
   "execution_count": 62,
   "metadata": {},
   "outputs": [
    {
     "data": {
      "text/plain": [
       "[]"
      ]
     },
     "execution_count": 62,
     "metadata": {},
     "output_type": "execute_result"
    }
   ],
   "source": [
    "merge_sort([])"
   ]
  },
  {
   "cell_type": "code",
   "execution_count": 66,
   "metadata": {},
   "outputs": [],
   "source": [
    "def quick_sort(L, low, height):\n",
    "    if low >= height:\n",
    "        return L\n",
    "    k = partition(L, low, height)\n",
    "    quick_sort(L, low, k-1)\n",
    "    quick_sort(L, k+1, height)\n",
    "    print(L)\n",
    "    \n",
    "def partition(L, low, height):\n",
    "    left = low\n",
    "    right = height\n",
    "    k = L[low]\n",
    "    \n",
    "    while left < right:\n",
    "        while left < height and L[left] < k:\n",
    "            left += 1\n",
    "        while left < right and L[right] > k:\n",
    "            right -= 1\n",
    "        \n",
    "        L[left], L[right] = L[right], L[left]\n",
    "        \n",
    "    L[left] = L[right]\n",
    "    L[right] = k\n",
    "    return left"
   ]
  },
  {
   "cell_type": "code",
   "execution_count": 73,
   "metadata": {},
   "outputs": [
    {
     "name": "stdout",
     "output_type": "stream",
     "text": [
      "[1, 2]\n"
     ]
    }
   ],
   "source": [
    "quick_sort([1,2], 0, 1)"
   ]
  },
  {
   "cell_type": "code",
   "execution_count": 93,
   "metadata": {},
   "outputs": [],
   "source": [
    "def findFirst(L, k):\n",
    "    if not L or L[-1]<k:\n",
    "        return -1\n",
    "    \n",
    "    start = 0\n",
    "    end = len(L) - 1\n",
    "    while start < end:\n",
    "        if L[start] >= k:\n",
    "            return start\n",
    "        \n",
    "        mid = (end + start) // 2\n",
    "        if L[mid] < k:\n",
    "            start = mid +1\n",
    "        else:\n",
    "            end = mid\n",
    "        \n",
    "    return end"
   ]
  },
  {
   "cell_type": "code",
   "execution_count": 97,
   "metadata": {},
   "outputs": [
    {
     "data": {
      "text/plain": [
       "-1"
      ]
     },
     "execution_count": 97,
     "metadata": {},
     "output_type": "execute_result"
    }
   ],
   "source": [
    "findFirst([5,7,1], 2)"
   ]
  },
  {
   "cell_type": "code",
   "execution_count": 95,
   "metadata": {},
   "outputs": [],
   "source": [
    "def findMin(L):\n",
    "    if len(L) < 2:\n",
    "        return \n",
    "    \n",
    "    start = 0\n",
    "    end = len(L) - 1\n",
    "    while start < end:\n",
    "        mid = (start + end) // 2\n",
    "        if L[start] <= L[mid]:\n",
    "            start = mid +1\n",
    "        else:\n",
    "            end = mid\n",
    "        \n",
    "    return L[end]\n",
    "    \n",
    "    "
   ]
  },
  {
   "cell_type": "code",
   "execution_count": 96,
   "metadata": {},
   "outputs": [
    {
     "data": {
      "text/plain": [
       "2"
      ]
     },
     "execution_count": 96,
     "metadata": {},
     "output_type": "execute_result"
    }
   ],
   "source": [
    "findMin([3,4,5,1,2])"
   ]
  },
  {
   "cell_type": "code",
   "execution_count": 137,
   "metadata": {},
   "outputs": [],
   "source": [
    "def merge(a, start, mid, end):\n",
    "    count = 0\n",
    "    ret = []\n",
    "    left = mid\n",
    "    right = end \n",
    "    idx = 0\n",
    "    while left >=start and right <= mid:\n",
    "        if a[left] > a[right]:\n",
    "            print(right)\n",
    "            ret[idx] = a[right]\n",
    "            count += right - mid\n",
    "            right -= 1\n",
    "            \n",
    "        else:\n",
    "            ret[idx] = a[left]\n",
    "            left -= 1\n",
    "        idx += 1\n",
    "    if left <= mid:\n",
    "        ret.extend(a[left: mid + 1])\n",
    "    if right <= end:\n",
    "        ret.extend(a[right: end + 1])\n",
    "    \n",
    "    for i, v in enumerate(ret):\n",
    "        a[start+i] = v\n",
    "#     print(a, ret, start, end ,mid)\n",
    "    return count"
   ]
  },
  {
   "cell_type": "code",
   "execution_count": 138,
   "metadata": {},
   "outputs": [],
   "source": [
    "def merge_sort(a, start, end):\n",
    "    if start < end:\n",
    "        mid = (start + end) // 2\n",
    "        left = merge_sort(a, start, mid)\n",
    "        right = merge_sort(a, mid+1, end)\n",
    "        return left + right + merge(a, start, mid, end)\n",
    "    else:\n",
    "        return 0"
   ]
  },
  {
   "cell_type": "code",
   "execution_count": 172,
   "metadata": {},
   "outputs": [],
   "source": [
    "a = [2,4,4, 22, 21]"
   ]
  },
  {
   "cell_type": "code",
   "execution_count": 140,
   "metadata": {},
   "outputs": [
    {
     "data": {
      "text/plain": [
       "0"
      ]
     },
     "execution_count": 140,
     "metadata": {},
     "output_type": "execute_result"
    }
   ],
   "source": [
    "merge_sort(a, 0 ,3)"
   ]
  },
  {
   "cell_type": "code",
   "execution_count": 145,
   "metadata": {},
   "outputs": [
    {
     "data": {
      "text/plain": [
       "[4, 4, 7, 4]"
      ]
     },
     "execution_count": 145,
     "metadata": {},
     "output_type": "execute_result"
    }
   ],
   "source": [
    "a"
   ]
  },
  {
   "cell_type": "code",
   "execution_count": 196,
   "metadata": {},
   "outputs": [],
   "source": [
    "co = 0\n",
    "def merge_sort(l):\n",
    "    \n",
    "    if len(l) < 2:\n",
    "        return l\n",
    "    \n",
    "    mid = len(l) // 2\n",
    "    left = merge_sort(l[:mid])\n",
    "    right = merge_sort(l[mid:])\n",
    "    return merge(left, right)\n",
    "\n",
    "def merge(l1, l2):\n",
    "    global co\n",
    "    c = []\n",
    "    i= j = 0\n",
    "    while i< len(l1) and j < len(l2):\n",
    "        if l1[i] <= l2[j]:\n",
    "            c.append(l1[i])\n",
    "            i+= 1\n",
    "        else:\n",
    "            co += len(l1) - i\n",
    "            c.append(l2[j])\n",
    "            j += 1\n",
    "    if i < len(l1):\n",
    "        c.extend(l1[i:])\n",
    "    else:\n",
    "        c.extend(l2[j:])\n",
    "    return c"
   ]
  },
  {
   "cell_type": "code",
   "execution_count": 197,
   "metadata": {},
   "outputs": [
    {
     "data": {
      "text/plain": [
       "[2, 4, 4, 21, 22]"
      ]
     },
     "execution_count": 197,
     "metadata": {},
     "output_type": "execute_result"
    }
   ],
   "source": [
    "merge_sort(a)"
   ]
  },
  {
   "cell_type": "code",
   "execution_count": 198,
   "metadata": {},
   "outputs": [
    {
     "data": {
      "text/plain": [
       "1"
      ]
     },
     "execution_count": 198,
     "metadata": {},
     "output_type": "execute_result"
    }
   ],
   "source": [
    "co"
   ]
  },
  {
   "cell_type": "code",
   "execution_count": 199,
   "metadata": {},
   "outputs": [],
   "source": [
    "def merge(a, b):\n",
    "    c = []\n",
    "    h = j = 0\n",
    "    while j < len(a) and h < len(b):\n",
    "        if a[j] < b[h]:\n",
    "            c.append(a[j])\n",
    "            j += 1\n",
    "        else:\n",
    "            c.append(b[h])\n",
    "            h += 1\n",
    "\n",
    "    if j == len(a):\n",
    "        for i in b[h:]:\n",
    "            c.append(i)\n",
    "    else:\n",
    "        for i in a[j:]:\n",
    "            c.append(i)\n",
    "\n",
    "    return c\n",
    "\n",
    "\n",
    "def merge_sort(lists):\n",
    "    if len(lists) <= 1:\n",
    "        return lists\n",
    "    middle = len(lists)//2\n",
    "    left = merge_sort(lists[:middle])\n",
    "    right = merge_sort(lists[middle:])\n",
    "    return merge(left, right)"
   ]
  },
  {
   "cell_type": "code",
   "execution_count": 200,
   "metadata": {},
   "outputs": [
    {
     "data": {
      "text/plain": [
       "[2, 4, 4, 21, 22]"
      ]
     },
     "execution_count": 200,
     "metadata": {},
     "output_type": "execute_result"
    }
   ],
   "source": [
    "merge_sort(a)"
   ]
  },
  {
   "cell_type": "code",
   "execution_count": 207,
   "metadata": {},
   "outputs": [],
   "source": [
    "def Print1ToMax(n):\n",
    "    if n <= 0:\n",
    "        return\n",
    "    num = ''\n",
    "    for i in range(10):\n",
    "        Recursive(num+str(i),n,0)\n",
    "\n",
    "\n",
    "def Recursive(num, n, index):\n",
    "    if  index == n -1:\n",
    "        print(num)\n",
    "        return\n",
    "    for i in range(10):\n",
    "        Recursive(num + str(i), n, index + 1)\n",
    "    \n",
    "    "
   ]
  },
  {
   "cell_type": "code",
   "execution_count": 208,
   "metadata": {},
   "outputs": [
    {
     "name": "stdout",
     "output_type": "stream",
     "text": [
      "00\n",
      "01\n",
      "02\n",
      "03\n",
      "04\n",
      "05\n",
      "06\n",
      "07\n",
      "08\n",
      "09\n",
      "10\n",
      "11\n",
      "12\n",
      "13\n",
      "14\n",
      "15\n",
      "16\n",
      "17\n",
      "18\n",
      "19\n",
      "20\n",
      "21\n",
      "22\n",
      "23\n",
      "24\n",
      "25\n",
      "26\n",
      "27\n",
      "28\n",
      "29\n",
      "30\n",
      "31\n",
      "32\n",
      "33\n",
      "34\n",
      "35\n",
      "36\n",
      "37\n",
      "38\n",
      "39\n",
      "40\n",
      "41\n",
      "42\n",
      "43\n",
      "44\n",
      "45\n",
      "46\n",
      "47\n",
      "48\n",
      "49\n",
      "50\n",
      "51\n",
      "52\n",
      "53\n",
      "54\n",
      "55\n",
      "56\n",
      "57\n",
      "58\n",
      "59\n",
      "60\n",
      "61\n",
      "62\n",
      "63\n",
      "64\n",
      "65\n",
      "66\n",
      "67\n",
      "68\n",
      "69\n",
      "70\n",
      "71\n",
      "72\n",
      "73\n",
      "74\n",
      "75\n",
      "76\n",
      "77\n",
      "78\n",
      "79\n",
      "80\n",
      "81\n",
      "82\n",
      "83\n",
      "84\n",
      "85\n",
      "86\n",
      "87\n",
      "88\n",
      "89\n",
      "90\n",
      "91\n",
      "92\n",
      "93\n",
      "94\n",
      "95\n",
      "96\n",
      "97\n",
      "98\n",
      "99\n"
     ]
    }
   ],
   "source": [
    "Print1ToMax(2)"
   ]
  },
  {
   "cell_type": "code",
   "execution_count": 209,
   "metadata": {},
   "outputs": [],
   "source": [
    "t = [[1,2]]"
   ]
  },
  {
   "cell_type": "code",
   "execution_count": 211,
   "metadata": {},
   "outputs": [
    {
     "data": {
      "text/plain": [
       "2"
      ]
     },
     "execution_count": 211,
     "metadata": {},
     "output_type": "execute_result"
    }
   ],
   "source": [
    "t[0][1]"
   ]
  },
  {
   "cell_type": "code",
   "execution_count": 263,
   "metadata": {},
   "outputs": [],
   "source": [
    "def printMatrix(m):\n",
    "    if not m:\n",
    "        return\n",
    "    rows = len(m)\n",
    "    cols = len(m[0])\n",
    "    start = 0\n",
    "    while start * 2 < cols and start * 2 < rows:\n",
    "        printM(m, cols, rows, start)\n",
    "        start += 1\n",
    "        \n",
    "def printM(m, cols, rows, start):\n",
    "    endcol = cols - 1 - start\n",
    "    endrow = rows - 1 - start\n",
    "    \n",
    "    # first line: left to right\n",
    "    for i in range(start, endcol+1):\n",
    "#         import pdb\n",
    "#         pdb.set_trace()\n",
    "        print('first line')\n",
    "        print(m[start][i])\n",
    "        \n",
    "    # second line: top to bottle\n",
    "    if endrow > start:\n",
    "        for i in range(start + 1, endrow+1):\n",
    "            print('sec')\n",
    "            print(m[i][endcol])\n",
    "    \n",
    "    # third line: right to left\n",
    "    if endrow > start and endcol > start:\n",
    "        for i in range(endcol - 1, start -1, -1):\n",
    "            print('third')\n",
    "            print(m[endrow][i])\n",
    "    # fourth line: bottle to top\n",
    "    if start + 1 < endcol:\n",
    "        for i in range(endrow-1, start, -1):\n",
    "            print('fourth')\n",
    "            print(m[i][start])"
   ]
  },
  {
   "cell_type": "code",
   "execution_count": 264,
   "metadata": {},
   "outputs": [],
   "source": [
    "m = [\n",
    "    [1,2,3,4],\n",
    "    [5,6,7,8],\n",
    "    [9,10,11,12]\n",
    "]"
   ]
  },
  {
   "cell_type": "code",
   "execution_count": 265,
   "metadata": {},
   "outputs": [
    {
     "name": "stdout",
     "output_type": "stream",
     "text": [
      "first line\n",
      "1\n",
      "first line\n",
      "2\n",
      "first line\n",
      "3\n",
      "first line\n",
      "4\n",
      "sec\n",
      "8\n",
      "sec\n",
      "12\n",
      "third\n",
      "11\n",
      "third\n",
      "10\n",
      "third\n",
      "9\n",
      "fourth\n",
      "5\n",
      "first line\n",
      "6\n",
      "first line\n",
      "7\n"
     ]
    }
   ],
   "source": [
    "printMatrix(m)"
   ]
  },
  {
   "cell_type": "code",
   "execution_count": 381,
   "metadata": {},
   "outputs": [],
   "source": [
    "def cut_rope(n):\n",
    "    if n < 2:\n",
    "        return 0\n",
    "    \n",
    "    if n == 2:\n",
    "        return 1  # 1*1\n",
    "    \n",
    "    if n == 3:\n",
    "        return 2 # 1 * 2\n",
    "    \n",
    "    # 将其切为i， n-i两部分\n",
    "    area_max = {}\n",
    "    area_max[0] = 0\n",
    "    area_max[1] = 1\n",
    "    area_max[2] = 2\n",
    "    area_max[3] = 3  # 不切时最大\n",
    "    \n",
    "    # 从n=4开始，不切的最大值小于等于切后的最大值\n",
    "    m = 4\n",
    "    while m <= n:\n",
    "        t = 0\n",
    "        for i in range(1, m//2 + 1):\n",
    "            t = max(t, area_max[i] * area_max[m-i])\n",
    "        \n",
    "        area_max[m] = t\n",
    "        m += 1\n",
    "        \n",
    "    return area_max[n]\n",
    "    "
   ]
  },
  {
   "cell_type": "code",
   "execution_count": 385,
   "metadata": {},
   "outputs": [
    {
     "data": {
      "text/plain": [
       "36"
      ]
     },
     "execution_count": 385,
     "metadata": {},
     "output_type": "execute_result"
    }
   ],
   "source": [
    "cut_rope(10)"
   ]
  },
  {
   "cell_type": "code",
   "execution_count": null,
   "metadata": {},
   "outputs": [],
   "source": []
  }
 ],
 "metadata": {
  "kernelspec": {
   "display_name": "Python 3",
   "language": "python",
   "name": "python3"
  },
  "language_info": {
   "codemirror_mode": {
    "name": "ipython",
    "version": 3
   },
   "file_extension": ".py",
   "mimetype": "text/x-python",
   "name": "python",
   "nbconvert_exporter": "python",
   "pygments_lexer": "ipython3",
   "version": "3.7.1"
  }
 },
 "nbformat": 4,
 "nbformat_minor": 2
}
